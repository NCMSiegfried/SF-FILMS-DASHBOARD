{
 "cells": [
  {
   "cell_type": "code",
   "execution_count": 40,
   "id": "bf1e74de",
   "metadata": {},
   "outputs": [],
   "source": [
    "from icrawler.builtin import GoogleImageCrawler, BaiduImageCrawler, BingImageCrawler\n",
    "import pandas as pd\n",
    "import os, math, re\n",
    "import logging"
   ]
  },
  {
   "cell_type": "code",
   "execution_count": 2,
   "id": "3b56cc46",
   "metadata": {},
   "outputs": [],
   "source": [
    "df = pd.read_csv(\"FINAL_DATA/Film_Locations_Geocoded_FINAL.csv\")\n"
   ]
  },
  {
   "cell_type": "code",
   "execution_count": 3,
   "id": "837b2ebf",
   "metadata": {},
   "outputs": [],
   "source": [
    "df['img_name'] = None"
   ]
  },
  {
   "cell_type": "code",
   "execution_count": 36,
   "id": "2bdab6d3",
   "metadata": {},
   "outputs": [],
   "source": [
    "google_crawler = GoogleImageCrawler(storage={'root_dir': 'map/images'})\n",
    "def download_movie_poster(movie, max_num=1):\n",
    "    image_names = {}\n",
    "    google_crawler.crawl(keyword=f\"{movie} poster\", max_num=max_num)"
   ]
  },
  {
   "cell_type": "code",
   "execution_count": 45,
   "id": "39a3d2fd",
   "metadata": {},
   "outputs": [],
   "source": [
    "bing_crawler = BingImageCrawler(storage={'root_dir': 'map/images'})\n",
    "def download_movie_poster_bing(movie, max_num=1):\n",
    "    image_names = {}\n",
    "    bing_crawler.crawl(keyword=f\"{movie} poster\", max_num=max_num)"
   ]
  },
  {
   "cell_type": "code",
   "execution_count": 46,
   "id": "89082413",
   "metadata": {
    "scrolled": true
   },
   "outputs": [
    {
     "name": "stderr",
     "output_type": "stream",
     "text": [
      "2024-09-03 19:46:25,089 - INFO - icrawler.crawler - start crawling...\n",
      "2024-09-03 19:46:25,091 - INFO - icrawler.crawler - starting 1 feeder threads...\n",
      "2024-09-03 19:46:25,092 - INFO - feeder - thread feeder-001 exit\n",
      "2024-09-03 19:46:25,094 - INFO - icrawler.crawler - starting 1 parser threads...\n",
      "2024-09-03 19:46:25,097 - INFO - icrawler.crawler - starting 1 downloader threads...\n",
      "2024-09-03 19:46:25,666 - INFO - parser - parsing result page https://www.bing.com/images/async?q=The Californians 2005 poster&first=0\n",
      "2024-09-03 19:46:25,690 - INFO - downloader - skip downloading file 000001.jpg\n",
      "2024-09-03 19:46:25,876 - INFO - downloader - downloaded images reach max num, thread downloader-001 is ready to exit\n",
      "2024-09-03 19:46:25,877 - INFO - downloader - thread downloader-001 exit\n",
      "2024-09-03 19:46:26,106 - INFO - icrawler.crawler - Crawling task done!\n",
      "2024-09-03 19:46:26,107 - INFO - icrawler.crawler - start crawling...\n",
      "2024-09-03 19:46:26,108 - INFO - icrawler.crawler - starting 1 feeder threads...\n",
      "2024-09-03 19:46:26,109 - INFO - feeder - thread feeder-001 exit\n",
      "2024-09-03 19:46:26,109 - INFO - icrawler.crawler - starting 1 parser threads...\n",
      "2024-09-03 19:46:26,111 - INFO - icrawler.crawler - starting 1 downloader threads...\n",
      "2024-09-03 19:46:26,534 - INFO - parser - parsing result page https://www.bing.com/images/async?q=Babies 2010 poster&first=0\n",
      "2024-09-03 19:46:26,568 - INFO - downloader - skip downloading file 000001.jpg\n",
      "2024-09-03 19:46:26,817 - INFO - downloader - downloaded images reach max num, thread downloader-001 is ready to exit\n",
      "2024-09-03 19:46:26,818 - INFO - downloader - thread downloader-001 exit\n",
      "2024-09-03 19:46:27,118 - INFO - icrawler.crawler - Crawling task done!\n",
      "2024-09-03 19:46:27,120 - INFO - icrawler.crawler - start crawling...\n",
      "2024-09-03 19:46:27,121 - INFO - icrawler.crawler - starting 1 feeder threads...\n",
      "2024-09-03 19:46:27,123 - INFO - feeder - thread feeder-001 exit\n",
      "2024-09-03 19:46:27,124 - INFO - icrawler.crawler - starting 1 parser threads...\n",
      "2024-09-03 19:46:27,131 - INFO - icrawler.crawler - starting 1 downloader threads...\n",
      "2024-09-03 19:46:27,501 - INFO - parser - parsing result page https://www.bing.com/images/async?q=Down Periscope 1996 poster&first=0\n",
      "2024-09-03 19:46:27,528 - INFO - downloader - skip downloading file 000001.jpg\n",
      "2024-09-03 19:46:28,311 - INFO - downloader - downloaded images reach max num, thread downloader-001 is ready to exit\n",
      "2024-09-03 19:46:28,312 - INFO - downloader - thread downloader-001 exit\n",
      "2024-09-03 19:46:29,142 - INFO - icrawler.crawler - Crawling task done!\n",
      "2024-09-03 19:46:29,143 - INFO - icrawler.crawler - start crawling...\n",
      "2024-09-03 19:46:29,144 - INFO - icrawler.crawler - starting 1 feeder threads...\n",
      "2024-09-03 19:46:29,144 - INFO - feeder - thread feeder-001 exit\n",
      "2024-09-03 19:46:29,145 - INFO - icrawler.crawler - starting 1 parser threads...\n",
      "2024-09-03 19:46:29,146 - INFO - icrawler.crawler - starting 1 downloader threads...\n",
      "2024-09-03 19:46:29,536 - INFO - downloader - skip downloading file 000001.jpg\n",
      "2024-09-03 19:46:29,543 - INFO - parser - parsing result page https://www.bing.com/images/async?q=Shattered 1991 poster&first=0\n"
     ]
    },
    {
     "ename": "KeyboardInterrupt",
     "evalue": "",
     "output_type": "error",
     "traceback": [
      "\u001b[0;31m---------------------------------------------------------------------------\u001b[0m",
      "\u001b[0;31mKeyboardInterrupt\u001b[0m                         Traceback (most recent call last)",
      "Input \u001b[0;32mIn [46]\u001b[0m, in \u001b[0;36m<cell line: 1>\u001b[0;34m()\u001b[0m\n\u001b[1;32m      2\u001b[0m year \u001b[38;5;241m=\u001b[39m row[\u001b[38;5;124m'\u001b[39m\u001b[38;5;124mRelease Year\u001b[39m\u001b[38;5;124m'\u001b[39m]\n\u001b[1;32m      3\u001b[0m search \u001b[38;5;241m=\u001b[39m \u001b[38;5;124mf\u001b[39m\u001b[38;5;124m\"\u001b[39m\u001b[38;5;132;01m{\u001b[39;00mrow\u001b[38;5;241m.\u001b[39mTitle\u001b[38;5;132;01m}\u001b[39;00m\u001b[38;5;124m \u001b[39m\u001b[38;5;132;01m{\u001b[39;00myear\u001b[38;5;132;01m}\u001b[39;00m\u001b[38;5;124m\"\u001b[39m\n\u001b[0;32m----> 4\u001b[0m \u001b[43mdownload_movie_poster_bing\u001b[49m\u001b[43m(\u001b[49m\u001b[43msearch\u001b[49m\u001b[43m,\u001b[49m\u001b[43m \u001b[49m\u001b[43mmax_num\u001b[49m\u001b[38;5;241;43m=\u001b[39;49m\u001b[38;5;241;43m1\u001b[39;49m\u001b[43m)\u001b[49m\n",
      "Input \u001b[0;32mIn [45]\u001b[0m, in \u001b[0;36mdownload_movie_poster_bing\u001b[0;34m(movie, max_num)\u001b[0m\n\u001b[1;32m      2\u001b[0m \u001b[38;5;28;01mdef\u001b[39;00m \u001b[38;5;21mdownload_movie_poster_bing\u001b[39m(movie, max_num\u001b[38;5;241m=\u001b[39m\u001b[38;5;241m1\u001b[39m):\n\u001b[1;32m      3\u001b[0m     image_names \u001b[38;5;241m=\u001b[39m {}\n\u001b[0;32m----> 4\u001b[0m     \u001b[43mbing_crawler\u001b[49m\u001b[38;5;241;43m.\u001b[39;49m\u001b[43mcrawl\u001b[49m\u001b[43m(\u001b[49m\u001b[43mkeyword\u001b[49m\u001b[38;5;241;43m=\u001b[39;49m\u001b[38;5;124;43mf\u001b[39;49m\u001b[38;5;124;43m\"\u001b[39;49m\u001b[38;5;132;43;01m{\u001b[39;49;00m\u001b[43mmovie\u001b[49m\u001b[38;5;132;43;01m}\u001b[39;49;00m\u001b[38;5;124;43m poster\u001b[39;49m\u001b[38;5;124;43m\"\u001b[39;49m\u001b[43m,\u001b[49m\u001b[43m \u001b[49m\u001b[43mmax_num\u001b[49m\u001b[38;5;241;43m=\u001b[39;49m\u001b[43mmax_num\u001b[49m\u001b[43m)\u001b[49m\n",
      "File \u001b[0;32m~/opt/anaconda3/lib/python3.9/site-packages/icrawler/builtin/bing.py:165\u001b[0m, in \u001b[0;36mBingImageCrawler.crawl\u001b[0;34m(self, keyword, filters, offset, max_num, min_size, max_size, file_idx_offset, overwrite)\u001b[0m\n\u001b[1;32m    161\u001b[0m feeder_kwargs \u001b[38;5;241m=\u001b[39m \u001b[38;5;28mdict\u001b[39m(keyword\u001b[38;5;241m=\u001b[39mkeyword, offset\u001b[38;5;241m=\u001b[39moffset, max_num\u001b[38;5;241m=\u001b[39mmax_num, filters\u001b[38;5;241m=\u001b[39mfilters)\n\u001b[1;32m    162\u001b[0m downloader_kwargs \u001b[38;5;241m=\u001b[39m \u001b[38;5;28mdict\u001b[39m(\n\u001b[1;32m    163\u001b[0m     max_num\u001b[38;5;241m=\u001b[39mmax_num, min_size\u001b[38;5;241m=\u001b[39mmin_size, max_size\u001b[38;5;241m=\u001b[39mmax_size, file_idx_offset\u001b[38;5;241m=\u001b[39mfile_idx_offset, overwrite\u001b[38;5;241m=\u001b[39moverwrite\n\u001b[1;32m    164\u001b[0m )\n\u001b[0;32m--> 165\u001b[0m \u001b[38;5;28;43msuper\u001b[39;49m\u001b[43m(\u001b[49m\u001b[43m)\u001b[49m\u001b[38;5;241;43m.\u001b[39;49m\u001b[43mcrawl\u001b[49m\u001b[43m(\u001b[49m\u001b[43mfeeder_kwargs\u001b[49m\u001b[38;5;241;43m=\u001b[39;49m\u001b[43mfeeder_kwargs\u001b[49m\u001b[43m,\u001b[49m\u001b[43m \u001b[49m\u001b[43mdownloader_kwargs\u001b[49m\u001b[38;5;241;43m=\u001b[39;49m\u001b[43mdownloader_kwargs\u001b[49m\u001b[43m)\u001b[49m\n",
      "File \u001b[0;32m~/opt/anaconda3/lib/python3.9/site-packages/icrawler/crawler.py:184\u001b[0m, in \u001b[0;36mCrawler.crawl\u001b[0;34m(self, feeder_kwargs, parser_kwargs, downloader_kwargs)\u001b[0m\n\u001b[1;32m    182\u001b[0m     \u001b[38;5;28;01mif\u001b[39;00m \u001b[38;5;129;01mnot\u001b[39;00m \u001b[38;5;28mself\u001b[39m\u001b[38;5;241m.\u001b[39mdownloader\u001b[38;5;241m.\u001b[39mis_alive():\n\u001b[1;32m    183\u001b[0m         \u001b[38;5;28;01mbreak\u001b[39;00m\n\u001b[0;32m--> 184\u001b[0m     \u001b[43mtime\u001b[49m\u001b[38;5;241;43m.\u001b[39;49m\u001b[43msleep\u001b[49m\u001b[43m(\u001b[49m\u001b[38;5;241;43m1\u001b[39;49m\u001b[43m)\u001b[49m\n\u001b[1;32m    186\u001b[0m \u001b[38;5;28;01mif\u001b[39;00m \u001b[38;5;129;01mnot\u001b[39;00m \u001b[38;5;28mself\u001b[39m\u001b[38;5;241m.\u001b[39mfeeder\u001b[38;5;241m.\u001b[39min_queue\u001b[38;5;241m.\u001b[39mempty():\n\u001b[1;32m    187\u001b[0m     \u001b[38;5;28mself\u001b[39m\u001b[38;5;241m.\u001b[39mfeeder\u001b[38;5;241m.\u001b[39mclear_buffer()\n",
      "\u001b[0;31mKeyboardInterrupt\u001b[0m: "
     ]
    }
   ],
   "source": [
    "for index, row in df.iterrows():\n",
    "    year = row['Release Year']\n",
    "    search = f\"{row.Title} {year}\"\n",
    "    download_movie_poster_bing(search, max_num=1)\n"
   ]
  },
  {
   "cell_type": "code",
   "execution_count": 38,
   "id": "d4fe0f99",
   "metadata": {},
   "outputs": [
    {
     "data": {
      "text/plain": [
       "2083"
      ]
     },
     "execution_count": 38,
     "metadata": {},
     "output_type": "execute_result"
    }
   ],
   "source": [
    "len(df)"
   ]
  },
  {
   "cell_type": "code",
   "execution_count": null,
   "id": "7acfaf9d",
   "metadata": {},
   "outputs": [],
   "source": []
  }
 ],
 "metadata": {
  "kernelspec": {
   "display_name": "Python 3 (ipykernel)",
   "language": "python",
   "name": "python3"
  },
  "language_info": {
   "codemirror_mode": {
    "name": "ipython",
    "version": 3
   },
   "file_extension": ".py",
   "mimetype": "text/x-python",
   "name": "python",
   "nbconvert_exporter": "python",
   "pygments_lexer": "ipython3",
   "version": "3.9.12"
  }
 },
 "nbformat": 4,
 "nbformat_minor": 5
}
