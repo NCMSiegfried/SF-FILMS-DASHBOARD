{
 "cells": [
  {
   "cell_type": "code",
   "execution_count": 7,
   "id": "c96ccf66",
   "metadata": {},
   "outputs": [],
   "source": [
    "import geopandas as gpd\n",
    "from shapely.geometry import Point"
   ]
  },
  {
   "cell_type": "code",
   "execution_count": 8,
   "id": "939c9d21",
   "metadata": {},
   "outputs": [
    {
     "data": {
      "text/html": [
       "<div>\n",
       "<style scoped>\n",
       "    .dataframe tbody tr th:only-of-type {\n",
       "        vertical-align: middle;\n",
       "    }\n",
       "\n",
       "    .dataframe tbody tr th {\n",
       "        vertical-align: top;\n",
       "    }\n",
       "\n",
       "    .dataframe thead th {\n",
       "        text-align: right;\n",
       "    }\n",
       "</style>\n",
       "<table border=\"1\" class=\"dataframe\">\n",
       "  <thead>\n",
       "    <tr style=\"text-align: right;\">\n",
       "      <th></th>\n",
       "      <th>unique_id</th>\n",
       "      <th>Title</th>\n",
       "      <th>Release Year</th>\n",
       "      <th>Locations</th>\n",
       "      <th>Fun Facts</th>\n",
       "      <th>Production Company</th>\n",
       "      <th>Distributor</th>\n",
       "      <th>Director</th>\n",
       "      <th>Writer</th>\n",
       "      <th>Actor 1</th>\n",
       "      <th>...</th>\n",
       "      <th>state</th>\n",
       "      <th>coordinates_final2</th>\n",
       "      <th>lat_final2</th>\n",
       "      <th>lon_final2</th>\n",
       "      <th>tconst</th>\n",
       "      <th>genres</th>\n",
       "      <th>run_time</th>\n",
       "      <th>avg_rating</th>\n",
       "      <th>numVotes</th>\n",
       "      <th>geometry</th>\n",
       "    </tr>\n",
       "  </thead>\n",
       "  <tbody>\n",
       "    <tr>\n",
       "      <th>0</th>\n",
       "      <td>5</td>\n",
       "      <td>The Californians</td>\n",
       "      <td>2005</td>\n",
       "      <td></td>\n",
       "      <td></td>\n",
       "      <td>Parker Film Company</td>\n",
       "      <td>Fabrication Films</td>\n",
       "      <td>Jonathan Parker</td>\n",
       "      <td>Jonathan Parker &amp; Catherine DiNapoli</td>\n",
       "      <td>Noah Wyle</td>\n",
       "      <td>...</td>\n",
       "      <td>California</td>\n",
       "      <td></td>\n",
       "      <td></td>\n",
       "      <td></td>\n",
       "      <td>tt0377043</td>\n",
       "      <td>Drama</td>\n",
       "      <td>87</td>\n",
       "      <td>4.8</td>\n",
       "      <td>461.0</td>\n",
       "      <td>None</td>\n",
       "    </tr>\n",
       "    <tr>\n",
       "      <th>1</th>\n",
       "      <td>6</td>\n",
       "      <td>Babies</td>\n",
       "      <td>2010</td>\n",
       "      <td></td>\n",
       "      <td></td>\n",
       "      <td>Canal+</td>\n",
       "      <td>Focus Features</td>\n",
       "      <td>Thomas Balmes</td>\n",
       "      <td>Thomas Balmes</td>\n",
       "      <td>Bayar</td>\n",
       "      <td>...</td>\n",
       "      <td>California</td>\n",
       "      <td></td>\n",
       "      <td></td>\n",
       "      <td></td>\n",
       "      <td>tt1020938</td>\n",
       "      <td>Documentary</td>\n",
       "      <td>79</td>\n",
       "      <td>7.0</td>\n",
       "      <td>7469.0</td>\n",
       "      <td>None</td>\n",
       "    </tr>\n",
       "  </tbody>\n",
       "</table>\n",
       "<p>2 rows × 27 columns</p>\n",
       "</div>"
      ],
      "text/plain": [
       "  unique_id             Title Release Year Locations Fun Facts  \\\n",
       "0         5  The Californians         2005                       \n",
       "1         6            Babies         2010                       \n",
       "\n",
       "    Production Company        Distributor         Director  \\\n",
       "0  Parker Film Company  Fabrication Films  Jonathan Parker   \n",
       "1               Canal+     Focus Features    Thomas Balmes   \n",
       "\n",
       "                                 Writer    Actor 1  ...       state  \\\n",
       "0  Jonathan Parker & Catherine DiNapoli  Noah Wyle  ...  California   \n",
       "1                         Thomas Balmes      Bayar  ...  California   \n",
       "\n",
       "  coordinates_final2 lat_final2 lon_final2     tconst       genres run_time  \\\n",
       "0                                           tt0377043        Drama       87   \n",
       "1                                           tt1020938  Documentary       79   \n",
       "\n",
       "  avg_rating numVotes geometry  \n",
       "0        4.8    461.0     None  \n",
       "1        7.0   7469.0     None  \n",
       "\n",
       "[2 rows x 27 columns]"
      ]
     },
     "execution_count": 8,
     "metadata": {},
     "output_type": "execute_result"
    }
   ],
   "source": [
    "df = gpd.read_file('FINAL_DATA/Film_Locations_Geocoded_FINAL.csv')\n",
    "df.head(2)"
   ]
  },
  {
   "cell_type": "code",
   "execution_count": 9,
   "id": "e5b51cc5",
   "metadata": {},
   "outputs": [],
   "source": [
    "df = df[df.coordinates_final2!='']"
   ]
  },
  {
   "cell_type": "code",
   "execution_count": 10,
   "id": "0914f047",
   "metadata": {},
   "outputs": [],
   "source": [
    "df['geometry'] = df.apply(lambda row: Point(float(row['lon_final2']), float(row['lat_final2'])), axis=1)"
   ]
  },
  {
   "cell_type": "code",
   "execution_count": 11,
   "id": "adf1d1c2",
   "metadata": {},
   "outputs": [],
   "source": [
    "gdf = gpd.GeoDataFrame(df, geometry='geometry')\n",
    "gdf.to_file('FINAL_DATA/data.geojson', driver='GeoJSON')"
   ]
  },
  {
   "cell_type": "code",
   "execution_count": null,
   "id": "1261fffa",
   "metadata": {},
   "outputs": [],
   "source": []
  }
 ],
 "metadata": {
  "kernelspec": {
   "display_name": "Python 3 (ipykernel)",
   "language": "python",
   "name": "python3"
  },
  "language_info": {
   "codemirror_mode": {
    "name": "ipython",
    "version": 3
   },
   "file_extension": ".py",
   "mimetype": "text/x-python",
   "name": "python",
   "nbconvert_exporter": "python",
   "pygments_lexer": "ipython3",
   "version": "3.9.12"
  }
 },
 "nbformat": 4,
 "nbformat_minor": 5
}
