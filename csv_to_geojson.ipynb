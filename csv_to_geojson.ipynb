{
 "cells": [
  {
   "cell_type": "code",
   "execution_count": 8,
   "id": "c96ccf66",
   "metadata": {},
   "outputs": [],
   "source": [
    "import geopandas as gpd\n",
    "from shapely.geometry import Point\n",
    "import pandas as pd"
   ]
  },
  {
   "cell_type": "code",
   "execution_count": 9,
   "id": "3f0c098b",
   "metadata": {},
   "outputs": [],
   "source": [
    "pd.set_option('display.max_columns', None)\n"
   ]
  },
  {
   "cell_type": "code",
   "execution_count": 3,
   "id": "939c9d21",
   "metadata": {},
   "outputs": [
    {
     "data": {
      "text/html": [
       "<div>\n",
       "<style scoped>\n",
       "    .dataframe tbody tr th:only-of-type {\n",
       "        vertical-align: middle;\n",
       "    }\n",
       "\n",
       "    .dataframe tbody tr th {\n",
       "        vertical-align: top;\n",
       "    }\n",
       "\n",
       "    .dataframe thead th {\n",
       "        text-align: right;\n",
       "    }\n",
       "</style>\n",
       "<table border=\"1\" class=\"dataframe\">\n",
       "  <thead>\n",
       "    <tr style=\"text-align: right;\">\n",
       "      <th></th>\n",
       "      <th>unique_id</th>\n",
       "      <th>Title</th>\n",
       "      <th>Release Year</th>\n",
       "      <th>Locations</th>\n",
       "      <th>Fun Facts</th>\n",
       "      <th>Production Company</th>\n",
       "      <th>Distributor</th>\n",
       "      <th>Director</th>\n",
       "      <th>Writer</th>\n",
       "      <th>Actor 1</th>\n",
       "      <th>...</th>\n",
       "      <th>director1_name</th>\n",
       "      <th>director2_nconst</th>\n",
       "      <th>director2_name</th>\n",
       "      <th>writer1_nconst</th>\n",
       "      <th>writer1_name</th>\n",
       "      <th>writer2_nconst</th>\n",
       "      <th>writer2_name</th>\n",
       "      <th>writer3_nconst</th>\n",
       "      <th>writer3_name</th>\n",
       "      <th>geometry</th>\n",
       "    </tr>\n",
       "  </thead>\n",
       "  <tbody>\n",
       "    <tr>\n",
       "      <th>0</th>\n",
       "      <td>5</td>\n",
       "      <td>The Californians</td>\n",
       "      <td>2005</td>\n",
       "      <td></td>\n",
       "      <td></td>\n",
       "      <td>Parker Film Company</td>\n",
       "      <td>Fabrication Films</td>\n",
       "      <td>Jonathan Parker</td>\n",
       "      <td>Jonathan Parker &amp; Catherine DiNapoli</td>\n",
       "      <td>Noah Wyle</td>\n",
       "      <td>...</td>\n",
       "      <td>Jonathan Parker</td>\n",
       "      <td></td>\n",
       "      <td></td>\n",
       "      <td>nm0662383</td>\n",
       "      <td>Jonathan Parker</td>\n",
       "      <td>nm0227517</td>\n",
       "      <td>Catherine DiNapoli</td>\n",
       "      <td>nm0416556</td>\n",
       "      <td>Henry James</td>\n",
       "      <td>None</td>\n",
       "    </tr>\n",
       "    <tr>\n",
       "      <th>1</th>\n",
       "      <td>6</td>\n",
       "      <td>Babies</td>\n",
       "      <td>2010</td>\n",
       "      <td></td>\n",
       "      <td></td>\n",
       "      <td>Canal+</td>\n",
       "      <td>Focus Features</td>\n",
       "      <td>Thomas Balmes</td>\n",
       "      <td>Thomas Balmes</td>\n",
       "      <td>Bayar</td>\n",
       "      <td>...</td>\n",
       "      <td>Thomas Balmès</td>\n",
       "      <td></td>\n",
       "      <td></td>\n",
       "      <td>nm0149260</td>\n",
       "      <td>Alain Chabat</td>\n",
       "      <td>nm0050988</td>\n",
       "      <td>Thomas Balmès</td>\n",
       "      <td></td>\n",
       "      <td></td>\n",
       "      <td>None</td>\n",
       "    </tr>\n",
       "  </tbody>\n",
       "</table>\n",
       "<p>2 rows × 37 columns</p>\n",
       "</div>"
      ],
      "text/plain": [
       "  unique_id             Title Release Year Locations Fun Facts  \\\n",
       "0         5  The Californians         2005                       \n",
       "1         6            Babies         2010                       \n",
       "\n",
       "    Production Company        Distributor         Director  \\\n",
       "0  Parker Film Company  Fabrication Films  Jonathan Parker   \n",
       "1               Canal+     Focus Features    Thomas Balmes   \n",
       "\n",
       "                                 Writer    Actor 1  ...   director1_name  \\\n",
       "0  Jonathan Parker & Catherine DiNapoli  Noah Wyle  ...  Jonathan Parker   \n",
       "1                         Thomas Balmes      Bayar  ...    Thomas Balmès   \n",
       "\n",
       "  director2_nconst director2_name writer1_nconst     writer1_name  \\\n",
       "0                                      nm0662383  Jonathan Parker   \n",
       "1                                      nm0149260     Alain Chabat   \n",
       "\n",
       "  writer2_nconst        writer2_name writer3_nconst writer3_name geometry  \n",
       "0      nm0227517  Catherine DiNapoli      nm0416556  Henry James     None  \n",
       "1      nm0050988       Thomas Balmès                                 None  \n",
       "\n",
       "[2 rows x 37 columns]"
      ]
     },
     "execution_count": 3,
     "metadata": {},
     "output_type": "execute_result"
    }
   ],
   "source": [
    "df = gpd.read_file('FINAL_DATA/Film_Locations_Geocoded_FINAL.csv')\n",
    "df.head(2)"
   ]
  },
  {
   "cell_type": "code",
   "execution_count": 5,
   "id": "0eacf105",
   "metadata": {},
   "outputs": [],
   "source": [
    "df_names = pd.read_csv('FINAL_DATA/Names_FINAL.csv')"
   ]
  },
  {
   "cell_type": "code",
   "execution_count": 9,
   "id": "564a1fcd",
   "metadata": {},
   "outputs": [],
   "source": [
    "df_names = df_names.replace(r'\\N', '')"
   ]
  },
  {
   "cell_type": "code",
   "execution_count": 10,
   "id": "7992cd93",
   "metadata": {},
   "outputs": [],
   "source": [
    "names_dict = {}\n",
    "for index, row in df_names.iterrows():\n",
    "    nconst = row['nconst']\n",
    "    names_dict[nconst] = {}\n",
    "    names_dict[nconst]['primaryName']=row['primaryName']\n",
    "    names_dict[nconst]['birthYear']=row['birthYear']\n",
    "    names_dict[nconst]['deathYear']=row['deathYear']\n",
    "    names_dict[nconst]['primaryProfession']=row['primaryProfession']\n",
    "    names_dict[nconst]['knownForTitles']=row['knownForTitles']\n",
    "    names_dict[nconst]['KnowForTitleNames']=row['KnowForTitleNames']"
   ]
  },
  {
   "cell_type": "code",
   "execution_count": 21,
   "id": "83dcfa97",
   "metadata": {},
   "outputs": [],
   "source": [
    "df['genres'] = df['genres'].replace(',', ', ',regex=True)"
   ]
  },
  {
   "cell_type": "code",
   "execution_count": 22,
   "id": "a85679c4",
   "metadata": {},
   "outputs": [
    {
     "data": {
      "text/plain": [
       "54         Crime, Mystery, Thriller\n",
       "55         Crime, Mystery, Thriller\n",
       "56                                 \n",
       "57      Action, Adventure, Thriller\n",
       "58                                 \n",
       "                   ...             \n",
       "2078       Drama, Mystery, Thriller\n",
       "2079                               \n",
       "2080       Drama, Mystery, Thriller\n",
       "2081       Drama, Mystery, Thriller\n",
       "2082       Drama, Mystery, Thriller\n",
       "Name: genres, Length: 2028, dtype: object"
      ]
     },
     "execution_count": 22,
     "metadata": {},
     "output_type": "execute_result"
    }
   ],
   "source": [
    "df['genres']"
   ]
  },
  {
   "cell_type": "code",
   "execution_count": 11,
   "id": "e5b51cc5",
   "metadata": {},
   "outputs": [],
   "source": [
    "df = df[df.coordinates_final2!='']"
   ]
  },
  {
   "cell_type": "code",
   "execution_count": 12,
   "id": "0914f047",
   "metadata": {},
   "outputs": [],
   "source": [
    "df['geometry'] = df.apply(lambda row: Point(float(row['lon_final2']), float(row['lat_final2'])), axis=1)"
   ]
  },
  {
   "cell_type": "code",
   "execution_count": 23,
   "id": "adf1d1c2",
   "metadata": {},
   "outputs": [],
   "source": [
    "gdf = gpd.GeoDataFrame(df, geometry='geometry')\n",
    "gdf.to_file('FINAL_DATA/data.geojson', driver='GeoJSON')"
   ]
  },
  {
   "cell_type": "code",
   "execution_count": 11,
   "id": "1261fffa",
   "metadata": {},
   "outputs": [],
   "source": [
    "import json\n",
    "with open('FINAL_DATA/Names.json', 'w') as json_file:\n",
    "    json.dump(names_dict, json_file, indent=4) "
   ]
  },
  {
   "cell_type": "code",
   "execution_count": null,
   "id": "87a94180",
   "metadata": {},
   "outputs": [],
   "source": []
  }
 ],
 "metadata": {
  "kernelspec": {
   "display_name": "Python 3 (ipykernel)",
   "language": "python",
   "name": "python3"
  },
  "language_info": {
   "codemirror_mode": {
    "name": "ipython",
    "version": 3
   },
   "file_extension": ".py",
   "mimetype": "text/x-python",
   "name": "python",
   "nbconvert_exporter": "python",
   "pygments_lexer": "ipython3",
   "version": "3.9.12"
  }
 },
 "nbformat": 4,
 "nbformat_minor": 5
}
