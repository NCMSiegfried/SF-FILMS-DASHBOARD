{
 "cells": [
  {
   "cell_type": "code",
   "execution_count": 1,
   "id": "c96ccf66",
   "metadata": {},
   "outputs": [
    {
     "name": "stderr",
     "output_type": "stream",
     "text": [
      "/Users/nikkosiegfried/opt/anaconda3/lib/python3.9/site-packages/pandas/core/computation/expressions.py:21: UserWarning: Pandas requires version '2.8.4' or newer of 'numexpr' (version '2.8.1' currently installed).\n",
      "  from pandas.core.computation.check import NUMEXPR_INSTALLED\n",
      "/Users/nikkosiegfried/opt/anaconda3/lib/python3.9/site-packages/pandas/core/arrays/masked.py:60: UserWarning: Pandas requires version '1.3.6' or newer of 'bottleneck' (version '1.3.4' currently installed).\n",
      "  from pandas.core import (\n",
      "/Users/nikkosiegfried/opt/anaconda3/lib/python3.9/site-packages/geopandas/_compat.py:123: UserWarning: The Shapely GEOS version (3.11.1-CAPI-1.17.1) is incompatible with the GEOS version PyGEOS was compiled with (3.10.4-CAPI-1.16.2). Conversions between both will be slow.\n",
      "  warnings.warn(\n",
      "/var/folders/3c/w0zr95wd3pn8yyx48x2d9r1m0000gn/T/ipykernel_82095/1547576247.py:1: UserWarning: Shapely 2.0 is installed, but because PyGEOS is also installed, GeoPandas will still use PyGEOS by default for now. To force to use and test Shapely 2.0, you have to set the environment variable USE_PYGEOS=0. You can do this before starting the Python process, or in your code before importing geopandas:\n",
      "\n",
      "import os\n",
      "os.environ['USE_PYGEOS'] = '0'\n",
      "import geopandas\n",
      "\n",
      "In a future release, GeoPandas will switch to using Shapely by default. If you are using PyGEOS directly (calling PyGEOS functions on geometries from GeoPandas), this will then stop working and you are encouraged to migrate from PyGEOS to Shapely 2.0 (https://shapely.readthedocs.io/en/latest/migration_pygeos.html).\n",
      "  import geopandas as gpd\n"
     ]
    }
   ],
   "source": [
    "import geopandas as gpd\n",
    "from shapely.geometry import Point"
   ]
  },
  {
   "cell_type": "code",
   "execution_count": 13,
   "id": "939c9d21",
   "metadata": {},
   "outputs": [
    {
     "data": {
      "text/html": [
       "<div>\n",
       "<style scoped>\n",
       "    .dataframe tbody tr th:only-of-type {\n",
       "        vertical-align: middle;\n",
       "    }\n",
       "\n",
       "    .dataframe tbody tr th {\n",
       "        vertical-align: top;\n",
       "    }\n",
       "\n",
       "    .dataframe thead th {\n",
       "        text-align: right;\n",
       "    }\n",
       "</style>\n",
       "<table border=\"1\" class=\"dataframe\">\n",
       "  <thead>\n",
       "    <tr style=\"text-align: right;\">\n",
       "      <th></th>\n",
       "      <th>unique_id</th>\n",
       "      <th>Title</th>\n",
       "      <th>Release Year</th>\n",
       "      <th>Locations</th>\n",
       "      <th>Fun Facts</th>\n",
       "      <th>Production Company</th>\n",
       "      <th>Distributor</th>\n",
       "      <th>Director</th>\n",
       "      <th>Writer</th>\n",
       "      <th>Actor 1</th>\n",
       "      <th>...</th>\n",
       "      <th>SF Find Neighborhoods</th>\n",
       "      <th>Analysis Neighborhoods</th>\n",
       "      <th>Current Supervisor Districts</th>\n",
       "      <th>query_location</th>\n",
       "      <th>city</th>\n",
       "      <th>state</th>\n",
       "      <th>coordinates_final2</th>\n",
       "      <th>lat_final2</th>\n",
       "      <th>lon_final2</th>\n",
       "      <th>geometry</th>\n",
       "    </tr>\n",
       "  </thead>\n",
       "  <tbody>\n",
       "    <tr>\n",
       "      <th>0</th>\n",
       "      <td>5</td>\n",
       "      <td>The Californians</td>\n",
       "      <td>2005</td>\n",
       "      <td></td>\n",
       "      <td></td>\n",
       "      <td>Parker Film Company</td>\n",
       "      <td>Fabrication Films</td>\n",
       "      <td>Jonathan Parker</td>\n",
       "      <td>Jonathan Parker &amp; Catherine DiNapoli</td>\n",
       "      <td>Noah Wyle</td>\n",
       "      <td>...</td>\n",
       "      <td>21.0</td>\n",
       "      <td>36.0</td>\n",
       "      <td>10.0</td>\n",
       "      <td></td>\n",
       "      <td>San Francisco</td>\n",
       "      <td>California</td>\n",
       "      <td></td>\n",
       "      <td></td>\n",
       "      <td></td>\n",
       "      <td>None</td>\n",
       "    </tr>\n",
       "    <tr>\n",
       "      <th>1</th>\n",
       "      <td>6</td>\n",
       "      <td>Babies</td>\n",
       "      <td>2010</td>\n",
       "      <td></td>\n",
       "      <td></td>\n",
       "      <td>Canal+</td>\n",
       "      <td>Focus Features</td>\n",
       "      <td>Thomas Balmes</td>\n",
       "      <td>Thomas Balmes</td>\n",
       "      <td>Bayar</td>\n",
       "      <td>...</td>\n",
       "      <td>21.0</td>\n",
       "      <td>36.0</td>\n",
       "      <td>10.0</td>\n",
       "      <td></td>\n",
       "      <td>San Francisco</td>\n",
       "      <td>California</td>\n",
       "      <td></td>\n",
       "      <td></td>\n",
       "      <td></td>\n",
       "      <td>None</td>\n",
       "    </tr>\n",
       "  </tbody>\n",
       "</table>\n",
       "<p>2 rows × 22 columns</p>\n",
       "</div>"
      ],
      "text/plain": [
       "  unique_id             Title Release Year Locations Fun Facts  \\\n",
       "0         5  The Californians         2005                       \n",
       "1         6            Babies         2010                       \n",
       "\n",
       "    Production Company        Distributor         Director  \\\n",
       "0  Parker Film Company  Fabrication Films  Jonathan Parker   \n",
       "1               Canal+     Focus Features    Thomas Balmes   \n",
       "\n",
       "                                 Writer    Actor 1  ... SF Find Neighborhoods  \\\n",
       "0  Jonathan Parker & Catherine DiNapoli  Noah Wyle  ...                  21.0   \n",
       "1                         Thomas Balmes      Bayar  ...                  21.0   \n",
       "\n",
       "  Analysis Neighborhoods Current Supervisor Districts query_location  \\\n",
       "0                   36.0                         10.0                  \n",
       "1                   36.0                         10.0                  \n",
       "\n",
       "            city       state coordinates_final2 lat_final2 lon_final2 geometry  \n",
       "0  San Francisco  California                                              None  \n",
       "1  San Francisco  California                                              None  \n",
       "\n",
       "[2 rows x 22 columns]"
      ]
     },
     "execution_count": 13,
     "metadata": {},
     "output_type": "execute_result"
    }
   ],
   "source": [
    "df = gpd.read_file('FINAL_DATA/Film_Locations_Geocoded_FINAL.csv')\n",
    "df.head(2)"
   ]
  },
  {
   "cell_type": "code",
   "execution_count": 24,
   "id": "e5b51cc5",
   "metadata": {},
   "outputs": [],
   "source": [
    "df = df[df.coordinates_final2!='']"
   ]
  },
  {
   "cell_type": "code",
   "execution_count": 25,
   "id": "0914f047",
   "metadata": {},
   "outputs": [
    {
     "name": "stderr",
     "output_type": "stream",
     "text": [
      "/Users/nikkosiegfried/opt/anaconda3/lib/python3.9/site-packages/geopandas/geodataframe.py:1443: SettingWithCopyWarning: \n",
      "A value is trying to be set on a copy of a slice from a DataFrame.\n",
      "Try using .loc[row_indexer,col_indexer] = value instead\n",
      "\n",
      "See the caveats in the documentation: https://pandas.pydata.org/pandas-docs/stable/user_guide/indexing.html#returning-a-view-versus-a-copy\n",
      "  super().__setitem__(key, value)\n"
     ]
    }
   ],
   "source": [
    "df['geometry'] = df.apply(lambda row: Point(float(row['lon_final2']), float(row['lat_final2'])), axis=1)"
   ]
  },
  {
   "cell_type": "code",
   "execution_count": 27,
   "id": "adf1d1c2",
   "metadata": {},
   "outputs": [],
   "source": [
    "gdf = gpd.GeoDataFrame(df, geometry='geometry')\n",
    "gdf.to_file('FINAL_DATA/data.geojson', driver='GeoJSON')"
   ]
  },
  {
   "cell_type": "code",
   "execution_count": null,
   "id": "3c66d279",
   "metadata": {},
   "outputs": [],
   "source": []
  }
 ],
 "metadata": {
  "kernelspec": {
   "display_name": "Python 3 (ipykernel)",
   "language": "python",
   "name": "python3"
  },
  "language_info": {
   "codemirror_mode": {
    "name": "ipython",
    "version": 3
   },
   "file_extension": ".py",
   "mimetype": "text/x-python",
   "name": "python",
   "nbconvert_exporter": "python",
   "pygments_lexer": "ipython3",
   "version": "3.9.12"
  }
 },
 "nbformat": 4,
 "nbformat_minor": 5
}
