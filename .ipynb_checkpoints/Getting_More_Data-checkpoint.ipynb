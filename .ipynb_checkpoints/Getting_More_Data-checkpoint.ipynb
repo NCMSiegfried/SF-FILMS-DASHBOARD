{
 "cells": [
  {
   "cell_type": "code",
   "execution_count": 1,
   "id": "6d06ed03",
   "metadata": {},
   "outputs": [
    {
     "name": "stderr",
     "output_type": "stream",
     "text": [
      "/Users/nikkosiegfried/opt/anaconda3/lib/python3.9/site-packages/pandas/core/computation/expressions.py:21: UserWarning: Pandas requires version '2.8.4' or newer of 'numexpr' (version '2.8.1' currently installed).\n",
      "  from pandas.core.computation.check import NUMEXPR_INSTALLED\n",
      "/Users/nikkosiegfried/opt/anaconda3/lib/python3.9/site-packages/pandas/core/arrays/masked.py:60: UserWarning: Pandas requires version '1.3.6' or newer of 'bottleneck' (version '1.3.4' currently installed).\n",
      "  from pandas.core import (\n"
     ]
    }
   ],
   "source": [
    "import pandas as pd"
   ]
  },
  {
   "cell_type": "code",
   "execution_count": 106,
   "id": "e9c9a6ad",
   "metadata": {},
   "outputs": [
    {
     "name": "stderr",
     "output_type": "stream",
     "text": [
      "/var/folders/3c/w0zr95wd3pn8yyx48x2d9r1m0000gn/T/ipykernel_2003/2163218165.py:1: DtypeWarning: Columns (4) have mixed types. Specify dtype option on import or set low_memory=False.\n",
      "  df_titles = pd.read_csv(\"data/title.basics.tsv.gz\", compression='gzip', delimiter='\\t')\n"
     ]
    }
   ],
   "source": [
    "df_titles = pd.read_csv(\"data/title.basics.tsv.gz\", compression='gzip', delimiter='\\t')\n",
    "df = pd.read_csv('FINAL_DATA/Film_Locations_Geocoded_FINAL.csv')"
   ]
  },
  {
   "cell_type": "code",
   "execution_count": 107,
   "id": "216343f0",
   "metadata": {},
   "outputs": [],
   "source": [
    "unique_titles = list(df.Title.unique())\n",
    "unique_titles.append('Chance')"
   ]
  },
  {
   "cell_type": "code",
   "execution_count": 108,
   "id": "4b6299bd",
   "metadata": {},
   "outputs": [],
   "source": [
    "df_titles = df_titles[df_titles['primaryTitle'].isin(unique_titles)]\n"
   ]
  },
  {
   "cell_type": "code",
   "execution_count": 13,
   "id": "b8923a11",
   "metadata": {},
   "outputs": [],
   "source": [
    "df_crew = pd.read_csv(\"data/title.crew.tsv.gz\", compression='gzip', delimiter='\\t')"
   ]
  },
  {
   "cell_type": "code",
   "execution_count": 15,
   "id": "c752864b",
   "metadata": {},
   "outputs": [],
   "source": [
    "df_crew = df_crew[df_crew['tconst'].isin(df_titles.tconst.unique())]\n"
   ]
  },
  {
   "cell_type": "code",
   "execution_count": 16,
   "id": "c2a9489f",
   "metadata": {
    "scrolled": true
   },
   "outputs": [
    {
     "data": {
      "text/html": [
       "<div>\n",
       "<style scoped>\n",
       "    .dataframe tbody tr th:only-of-type {\n",
       "        vertical-align: middle;\n",
       "    }\n",
       "\n",
       "    .dataframe tbody tr th {\n",
       "        vertical-align: top;\n",
       "    }\n",
       "\n",
       "    .dataframe thead th {\n",
       "        text-align: right;\n",
       "    }\n",
       "</style>\n",
       "<table border=\"1\" class=\"dataframe\">\n",
       "  <thead>\n",
       "    <tr style=\"text-align: right;\">\n",
       "      <th></th>\n",
       "      <th>tconst</th>\n",
       "      <th>directors</th>\n",
       "      <th>writers</th>\n",
       "    </tr>\n",
       "  </thead>\n",
       "  <tbody>\n",
       "    <tr>\n",
       "      <th>1563</th>\n",
       "      <td>tt0001585</td>\n",
       "      <td>nm0205986</td>\n",
       "      <td>\\N</td>\n",
       "    </tr>\n",
       "    <tr>\n",
       "      <th>1604</th>\n",
       "      <td>tt0001627</td>\n",
       "      <td>nm0002177</td>\n",
       "      <td>nm0713895</td>\n",
       "    </tr>\n",
       "    <tr>\n",
       "      <th>3105</th>\n",
       "      <td>tt0003148</td>\n",
       "      <td>nm0169871</td>\n",
       "      <td>nm0169871</td>\n",
       "    </tr>\n",
       "    <tr>\n",
       "      <th>4288</th>\n",
       "      <td>tt0004355</td>\n",
       "      <td>nm0869665</td>\n",
       "      <td>nm0329136,nm0869665</td>\n",
       "    </tr>\n",
       "    <tr>\n",
       "      <th>5482</th>\n",
       "      <td>tt0005571</td>\n",
       "      <td>nm0000122</td>\n",
       "      <td>nm0000122</td>\n",
       "    </tr>\n",
       "    <tr>\n",
       "      <th>...</th>\n",
       "      <td>...</td>\n",
       "      <td>...</td>\n",
       "      <td>...</td>\n",
       "    </tr>\n",
       "    <tr>\n",
       "      <th>10386283</th>\n",
       "      <td>tt9897472</td>\n",
       "      <td>nm2595237</td>\n",
       "      <td>nm7675256,nm2595237</td>\n",
       "    </tr>\n",
       "    <tr>\n",
       "      <th>10389740</th>\n",
       "      <td>tt9905408</td>\n",
       "      <td>\\N</td>\n",
       "      <td>\\N</td>\n",
       "    </tr>\n",
       "    <tr>\n",
       "      <th>10390729</th>\n",
       "      <td>tt9907606</td>\n",
       "      <td>nm0363668</td>\n",
       "      <td>nm3797254</td>\n",
       "    </tr>\n",
       "    <tr>\n",
       "      <th>10391541</th>\n",
       "      <td>tt9909484</td>\n",
       "      <td>nm0004554</td>\n",
       "      <td>nm0796950,nm0795975,nm0075528,nm0012100,nm1132...</td>\n",
       "    </tr>\n",
       "    <tr>\n",
       "      <th>10391682</th>\n",
       "      <td>tt9909838</td>\n",
       "      <td>nm6934354</td>\n",
       "      <td>\\N</td>\n",
       "    </tr>\n",
       "  </tbody>\n",
       "</table>\n",
       "<p>5201 rows × 3 columns</p>\n",
       "</div>"
      ],
      "text/plain": [
       "             tconst  directors  \\\n",
       "1563      tt0001585  nm0205986   \n",
       "1604      tt0001627  nm0002177   \n",
       "3105      tt0003148  nm0169871   \n",
       "4288      tt0004355  nm0869665   \n",
       "5482      tt0005571  nm0000122   \n",
       "...             ...        ...   \n",
       "10386283  tt9897472  nm2595237   \n",
       "10389740  tt9905408         \\N   \n",
       "10390729  tt9907606  nm0363668   \n",
       "10391541  tt9909484  nm0004554   \n",
       "10391682  tt9909838  nm6934354   \n",
       "\n",
       "                                                    writers  \n",
       "1563                                                     \\N  \n",
       "1604                                              nm0713895  \n",
       "3105                                              nm0169871  \n",
       "4288                                    nm0329136,nm0869665  \n",
       "5482                                              nm0000122  \n",
       "...                                                     ...  \n",
       "10386283                                nm7675256,nm2595237  \n",
       "10389740                                                 \\N  \n",
       "10390729                                          nm3797254  \n",
       "10391541  nm0796950,nm0795975,nm0075528,nm0012100,nm1132...  \n",
       "10391682                                                 \\N  \n",
       "\n",
       "[5201 rows x 3 columns]"
      ]
     },
     "execution_count": 16,
     "metadata": {},
     "output_type": "execute_result"
    }
   ],
   "source": [
    "df_crew"
   ]
  },
  {
   "cell_type": "code",
   "execution_count": 111,
   "id": "e75af911",
   "metadata": {
    "scrolled": true
   },
   "outputs": [],
   "source": [
    "\n",
    "df_episodes = df[df['Title'].str.contains('ep', na=False)]\n",
    "df_episodes = df_episodes[df_episodes['Title'] != 'What the Bleep Do We Know']\n"
   ]
  },
  {
   "cell_type": "code",
   "execution_count": 112,
   "id": "e2840d4c",
   "metadata": {},
   "outputs": [],
   "source": [
    "df_movies = df[~df['Title'].isin(list(df_episodes.Title))]\n",
    "\n"
   ]
  },
  {
   "cell_type": "code",
   "execution_count": 113,
   "id": "c77e314c",
   "metadata": {},
   "outputs": [
    {
     "data": {
      "text/plain": [
       "2083"
      ]
     },
     "execution_count": 113,
     "metadata": {},
     "output_type": "execute_result"
    }
   ],
   "source": [
    "#check none are missing\n",
    "len(df_movies)+len(df_episodes)"
   ]
  },
  {
   "cell_type": "code",
   "execution_count": 114,
   "id": "bf170901",
   "metadata": {},
   "outputs": [],
   "source": [
    "df_movie_titles = df_titles[df_titles['titleType']=='movie']\n",
    "df_series_titles = df_titles[df_titles['titleType']=='tvSeries']"
   ]
  },
  {
   "cell_type": "code",
   "execution_count": 115,
   "id": "e56a21d4",
   "metadata": {},
   "outputs": [
    {
     "name": "stderr",
     "output_type": "stream",
     "text": [
      "/var/folders/3c/w0zr95wd3pn8yyx48x2d9r1m0000gn/T/ipykernel_2003/3691218148.py:5: SettingWithCopyWarning: \n",
      "A value is trying to be set on a copy of a slice from a DataFrame.\n",
      "Try using .loc[row_indexer,col_indexer] = value instead\n",
      "\n",
      "See the caveats in the documentation: https://pandas.pydata.org/pandas-docs/stable/user_guide/indexing.html#returning-a-view-versus-a-copy\n",
      "  df_movie_titles.at[index, 'title_year'] = f'{title} {year}'\n"
     ]
    }
   ],
   "source": [
    "movies_dict = {}\n",
    "for index, row in df_movie_titles.iterrows():\n",
    "    title = row['primaryTitle']\n",
    "    year = row['startYear']\n",
    "    df_movie_titles.at[index, 'title_year'] = f'{title} {year}'\n",
    "    movies_dict[f'{title} {year}']={}\n",
    "    movies_dict[f'{title} {year}']['tconst'] = row['tconst']\n",
    "    movies_dict[f'{title} {year}']['genres'] = row['genres']\n",
    "    movies_dict[f'{title} {year}']['run_time'] = row['runtimeMinutes']\n"
   ]
  },
  {
   "cell_type": "code",
   "execution_count": 116,
   "id": "4d7c0c82",
   "metadata": {},
   "outputs": [
    {
     "name": "stderr",
     "output_type": "stream",
     "text": [
      "/var/folders/3c/w0zr95wd3pn8yyx48x2d9r1m0000gn/T/ipykernel_2003/478664575.py:5: SettingWithCopyWarning: \n",
      "A value is trying to be set on a copy of a slice from a DataFrame.\n",
      "Try using .loc[row_indexer,col_indexer] = value instead\n",
      "\n",
      "See the caveats in the documentation: https://pandas.pydata.org/pandas-docs/stable/user_guide/indexing.html#returning-a-view-versus-a-copy\n",
      "  df_series_titles.at[index, 'title_year'] = f'{title} {year}'\n"
     ]
    }
   ],
   "source": [
    "series_dict = {}\n",
    "for index, row in df_series_titles.iterrows():\n",
    "    title = row['primaryTitle']\n",
    "    year = row['startYear']\n",
    "    df_series_titles.at[index, 'title_year'] = f'{title} {year}'\n",
    "    series_dict[f'{title} {year}']={}\n",
    "    series_dict[f'{title} {year}']['tconst'] = row['tconst']\n",
    "    series_dict[f'{title} {year}']['genres'] = row['genres']\n",
    "    series_dict[f'{title} {year}']['run_time'] = row['runtimeMinutes']"
   ]
  },
  {
   "cell_type": "code",
   "execution_count": 117,
   "id": "2b452073",
   "metadata": {},
   "outputs": [
    {
     "name": "stderr",
     "output_type": "stream",
     "text": [
      "/var/folders/3c/w0zr95wd3pn8yyx48x2d9r1m0000gn/T/ipykernel_2003/86427332.py:10: SettingWithCopyWarning: \n",
      "A value is trying to be set on a copy of a slice from a DataFrame.\n",
      "Try using .loc[row_indexer,col_indexer] = value instead\n",
      "\n",
      "See the caveats in the documentation: https://pandas.pydata.org/pandas-docs/stable/user_guide/indexing.html#returning-a-view-versus-a-copy\n",
      "  df_movies.at[index, 'tconst'] = tconst\n",
      "/var/folders/3c/w0zr95wd3pn8yyx48x2d9r1m0000gn/T/ipykernel_2003/86427332.py:11: SettingWithCopyWarning: \n",
      "A value is trying to be set on a copy of a slice from a DataFrame.\n",
      "Try using .loc[row_indexer,col_indexer] = value instead\n",
      "\n",
      "See the caveats in the documentation: https://pandas.pydata.org/pandas-docs/stable/user_guide/indexing.html#returning-a-view-versus-a-copy\n",
      "  df_movies.at[index, 'genres'] = genres\n",
      "/var/folders/3c/w0zr95wd3pn8yyx48x2d9r1m0000gn/T/ipykernel_2003/86427332.py:12: SettingWithCopyWarning: \n",
      "A value is trying to be set on a copy of a slice from a DataFrame.\n",
      "Try using .loc[row_indexer,col_indexer] = value instead\n",
      "\n",
      "See the caveats in the documentation: https://pandas.pydata.org/pandas-docs/stable/user_guide/indexing.html#returning-a-view-versus-a-copy\n",
      "  df_movies.at[index, 'run_time'] = run_time\n"
     ]
    }
   ],
   "source": [
    "for index, row in df_movies.iterrows():\n",
    "    title = row['Title']\n",
    "    year = row['Release Year']\n",
    "\n",
    "    title_year = f'{title} {year}'\n",
    "    try:\n",
    "        tconst = movies_dict[title_year]['tconst']\n",
    "        genres = movies_dict[title_year]['genres']\n",
    "        run_time = movies_dict[title_year]['run_time']\n",
    "        df_movies.at[index, 'tconst'] = tconst\n",
    "        df_movies.at[index, 'genres'] = genres\n",
    "        df_movies.at[index, 'run_time'] = run_time\n",
    "    except:\n",
    "        continue\n"
   ]
  },
  {
   "cell_type": "code",
   "execution_count": 118,
   "id": "4627f141",
   "metadata": {},
   "outputs": [],
   "source": [
    "for index, row in df_movies[df_movies.tconst.isna()==True].iterrows():\n",
    "    title = row['Title']\n",
    "    year = row['Release Year']\n",
    "\n",
    "    title_year = f'{title} {year}'\n",
    "    try:\n",
    "        tconst = series_dict[title_year]['tconst']\n",
    "        genres = series_dict[title_year]['genres']\n",
    "        run_time = series_dict[title_year]['run_time']\n",
    "        df_movies.at[index, 'tconst'] = tconst\n",
    "        df_movies.at[index, 'genres'] = genres\n",
    "        df_movies.at[index, 'run_time'] = run_time\n",
    "    except:\n",
    "        continue"
   ]
  },
  {
   "cell_type": "code",
   "execution_count": 123,
   "id": "9a811e41",
   "metadata": {},
   "outputs": [],
   "source": [
    "for index, row in df_episodes[df_episodes['Title'].str.contains('Chance')].iterrows():\n",
    "    title = 'Chance'\n",
    "    year = row['Release Year']\n",
    "\n",
    "    title_year = f'{title} {year}'\n",
    "    try:\n",
    "        tconst = series_dict[title_year]['tconst']\n",
    "        genres = series_dict[title_year]['genres']\n",
    "        run_time = series_dict[title_year]['run_time']\n",
    "        df_episodes.at[index, 'tconst'] = tconst\n",
    "        df_episodes.at[index, 'genres'] = genres\n",
    "        df_episodes.at[index, 'run_time'] = run_time\n",
    "    except:\n",
    "        continue"
   ]
  },
  {
   "cell_type": "code",
   "execution_count": 125,
   "id": "9c5aa4b9",
   "metadata": {},
   "outputs": [],
   "source": [
    "df = pd.concat([df_movies, df_episodes])\n"
   ]
  },
  {
   "cell_type": "code",
   "execution_count": 128,
   "id": "22ecd867",
   "metadata": {},
   "outputs": [],
   "source": [
    "del df_episodes, df_episodes_chance, df_movies"
   ]
  },
  {
   "cell_type": "code",
   "execution_count": 130,
   "id": "118ada05",
   "metadata": {},
   "outputs": [],
   "source": [
    "del df_crew\n"
   ]
  },
  {
   "cell_type": "code",
   "execution_count": 131,
   "id": "5cc598c1",
   "metadata": {},
   "outputs": [],
   "source": [
    "df_ratings = pd.read_csv(\"data/title.ratings.tsv.gz\", compression='gzip', delimiter='\\t')\n"
   ]
  },
  {
   "cell_type": "code",
   "execution_count": 132,
   "id": "7b59c476",
   "metadata": {},
   "outputs": [
    {
     "data": {
      "text/html": [
       "<div>\n",
       "<style scoped>\n",
       "    .dataframe tbody tr th:only-of-type {\n",
       "        vertical-align: middle;\n",
       "    }\n",
       "\n",
       "    .dataframe tbody tr th {\n",
       "        vertical-align: top;\n",
       "    }\n",
       "\n",
       "    .dataframe thead th {\n",
       "        text-align: right;\n",
       "    }\n",
       "</style>\n",
       "<table border=\"1\" class=\"dataframe\">\n",
       "  <thead>\n",
       "    <tr style=\"text-align: right;\">\n",
       "      <th></th>\n",
       "      <th>tconst</th>\n",
       "      <th>averageRating</th>\n",
       "      <th>numVotes</th>\n",
       "    </tr>\n",
       "  </thead>\n",
       "  <tbody>\n",
       "    <tr>\n",
       "      <th>0</th>\n",
       "      <td>tt0000001</td>\n",
       "      <td>5.7</td>\n",
       "      <td>2081</td>\n",
       "    </tr>\n",
       "    <tr>\n",
       "      <th>1</th>\n",
       "      <td>tt0000002</td>\n",
       "      <td>5.6</td>\n",
       "      <td>280</td>\n",
       "    </tr>\n",
       "    <tr>\n",
       "      <th>2</th>\n",
       "      <td>tt0000003</td>\n",
       "      <td>6.5</td>\n",
       "      <td>2078</td>\n",
       "    </tr>\n",
       "    <tr>\n",
       "      <th>3</th>\n",
       "      <td>tt0000004</td>\n",
       "      <td>5.4</td>\n",
       "      <td>181</td>\n",
       "    </tr>\n",
       "    <tr>\n",
       "      <th>4</th>\n",
       "      <td>tt0000005</td>\n",
       "      <td>6.2</td>\n",
       "      <td>2816</td>\n",
       "    </tr>\n",
       "    <tr>\n",
       "      <th>...</th>\n",
       "      <td>...</td>\n",
       "      <td>...</td>\n",
       "      <td>...</td>\n",
       "    </tr>\n",
       "    <tr>\n",
       "      <th>1472880</th>\n",
       "      <td>tt9916730</td>\n",
       "      <td>7.0</td>\n",
       "      <td>12</td>\n",
       "    </tr>\n",
       "    <tr>\n",
       "      <th>1472881</th>\n",
       "      <td>tt9916766</td>\n",
       "      <td>7.1</td>\n",
       "      <td>24</td>\n",
       "    </tr>\n",
       "    <tr>\n",
       "      <th>1472882</th>\n",
       "      <td>tt9916778</td>\n",
       "      <td>7.2</td>\n",
       "      <td>37</td>\n",
       "    </tr>\n",
       "    <tr>\n",
       "      <th>1472883</th>\n",
       "      <td>tt9916840</td>\n",
       "      <td>7.2</td>\n",
       "      <td>10</td>\n",
       "    </tr>\n",
       "    <tr>\n",
       "      <th>1472884</th>\n",
       "      <td>tt9916880</td>\n",
       "      <td>8.6</td>\n",
       "      <td>8</td>\n",
       "    </tr>\n",
       "  </tbody>\n",
       "</table>\n",
       "<p>1472885 rows × 3 columns</p>\n",
       "</div>"
      ],
      "text/plain": [
       "            tconst  averageRating  numVotes\n",
       "0        tt0000001            5.7      2081\n",
       "1        tt0000002            5.6       280\n",
       "2        tt0000003            6.5      2078\n",
       "3        tt0000004            5.4       181\n",
       "4        tt0000005            6.2      2816\n",
       "...            ...            ...       ...\n",
       "1472880  tt9916730            7.0        12\n",
       "1472881  tt9916766            7.1        24\n",
       "1472882  tt9916778            7.2        37\n",
       "1472883  tt9916840            7.2        10\n",
       "1472884  tt9916880            8.6         8\n",
       "\n",
       "[1472885 rows x 3 columns]"
      ]
     },
     "execution_count": 132,
     "metadata": {},
     "output_type": "execute_result"
    }
   ],
   "source": [
    "df_ratings"
   ]
  },
  {
   "cell_type": "code",
   "execution_count": 137,
   "id": "8c6dbf96",
   "metadata": {},
   "outputs": [
    {
     "name": "stderr",
     "output_type": "stream",
     "text": [
      "/var/folders/3c/w0zr95wd3pn8yyx48x2d9r1m0000gn/T/ipykernel_2003/3113121265.py:1: FutureWarning: Calling float on a single element Series is deprecated and will raise a TypeError in the future. Use float(ser.iloc[0]) instead\n",
      "  float(df_ratings[df_ratings.tconst=='tt9916730'].averageRating)\n"
     ]
    },
    {
     "data": {
      "text/plain": [
       "7.0"
      ]
     },
     "execution_count": 137,
     "metadata": {},
     "output_type": "execute_result"
    }
   ],
   "source": [
    "float(df_ratings[df_ratings.tconst=='tt9916730'].averageRating)"
   ]
  },
  {
   "cell_type": "code",
   "execution_count": null,
   "id": "a04ad329",
   "metadata": {},
   "outputs": [
    {
     "name": "stderr",
     "output_type": "stream",
     "text": [
      "/var/folders/3c/w0zr95wd3pn8yyx48x2d9r1m0000gn/T/ipykernel_2003/1955679484.py:4: FutureWarning: Calling float on a single element Series is deprecated and will raise a TypeError in the future. Use float(ser.iloc[0]) instead\n",
      "  df_episodes.at[index, 'rating'] = float(df_ratings[df_ratings.tconst==tconst].averageRating)\n"
     ]
    }
   ],
   "source": [
    "for index, row in df[df['tconst'].notna()].iterrows():\n",
    "    tconst = row['tconst']\n",
    "    try:\n",
    "        df_episodes.at[index, 'rating'] = float(df_ratings[df_ratings.tconst==tconst].averageRating)\n",
    "        df_episodes.at[index, 'numVotes'] = float(df_ratings[df_ratings.tconst==tconst].numVotes)\n",
    "    except:\n",
    "        continue"
   ]
  },
  {
   "cell_type": "code",
   "execution_count": null,
   "id": "aaaff17e",
   "metadata": {},
   "outputs": [],
   "source": []
  }
 ],
 "metadata": {
  "kernelspec": {
   "display_name": "Python 3 (ipykernel)",
   "language": "python",
   "name": "python3"
  },
  "language_info": {
   "codemirror_mode": {
    "name": "ipython",
    "version": 3
   },
   "file_extension": ".py",
   "mimetype": "text/x-python",
   "name": "python",
   "nbconvert_exporter": "python",
   "pygments_lexer": "ipython3",
   "version": "3.9.12"
  }
 },
 "nbformat": 4,
 "nbformat_minor": 5
}
